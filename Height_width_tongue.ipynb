{
  "nbformat": 4,
  "nbformat_minor": 0,
  "metadata": {
    "colab": {
      "name": "Height_width_tongue.ipynb",
      "provenance": [],
      "authorship_tag": "ABX9TyO3RWc1Xsx6U5xgSCkOhIla",
      "include_colab_link": true
    },
    "kernelspec": {
      "name": "python3",
      "display_name": "Python 3"
    },
    "language_info": {
      "name": "python"
    }
  },
  "cells": [
    {
      "cell_type": "markdown",
      "metadata": {
        "id": "view-in-github",
        "colab_type": "text"
      },
      "source": [
        "<a href=\"https://colab.research.google.com/github/jyotidabass/Height-width-tongue/blob/main/Height_width_tongue.ipynb\" target=\"_parent\"><img src=\"https://colab.research.google.com/assets/colab-badge.svg\" alt=\"Open In Colab\"/></a>"
      ]
    },
    {
      "cell_type": "code",
      "execution_count": 2,
      "metadata": {
        "id": "-StwKHoqQ7Wf"
      },
      "outputs": [],
      "source": [
        "from google.colab.patches import cv2_imshow\n",
        "import cv2\n",
        "import numpy as np\n",
        " \n",
        "# Reading the image from the present directory\n",
        "im = cv2.imread(\"/content/20220309_105103 - NITISH Kumar.jpg\")"
      ]
    },
    {
      "cell_type": "code",
      "source": [
        "print(type(im))\n",
        "# <class 'numpy.ndarray'>\n",
        "\n",
        "print(im.shape)\n",
        "print(type(im.shape))"
      ],
      "metadata": {
        "colab": {
          "base_uri": "https://localhost:8080/"
        },
        "id": "BHxvB3EySikS",
        "outputId": "40eac846-9f78-4f11-f5c3-b510d3a61ab5"
      },
      "execution_count": 3,
      "outputs": [
        {
          "output_type": "stream",
          "name": "stdout",
          "text": [
            "<class 'numpy.ndarray'>\n",
            "(931, 870, 3)\n",
            "<class 'tuple'>\n"
          ]
        }
      ]
    },
    {
      "cell_type": "code",
      "source": [
        "h, w, c = im.shape\n",
        "print('width:  ', w)\n",
        "print('height: ', h)\n",
        "print('channel:', c)"
      ],
      "metadata": {
        "colab": {
          "base_uri": "https://localhost:8080/"
        },
        "id": "-geyOcMOSl33",
        "outputId": "a78520ef-b229-46b7-bc7c-3d05196e48f7"
      },
      "execution_count": 4,
      "outputs": [
        {
          "output_type": "stream",
          "name": "stdout",
          "text": [
            "width:   870\n",
            "height:  931\n",
            "channel: 3\n"
          ]
        }
      ]
    }
  ]
}